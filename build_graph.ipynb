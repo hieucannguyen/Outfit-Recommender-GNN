{
 "cells": [
  {
   "cell_type": "code",
   "execution_count": 1,
   "metadata": {},
   "outputs": [],
   "source": [
    "import json"
   ]
  },
  {
   "cell_type": "code",
   "execution_count": 2,
   "metadata": {},
   "outputs": [
    {
     "name": "stdout",
     "output_type": "stream",
     "text": [
      "16983\n"
     ]
    }
   ],
   "source": [
    "with open('train_no_dup_new_100.json', 'r') as f:\n",
    "        outfits = json.load(f)\n",
    "\n",
    "\n",
    "print(len(outfits))"
   ]
  },
  {
   "cell_type": "code",
   "execution_count": 4,
   "metadata": {},
   "outputs": [
    {
     "name": "stderr",
     "output_type": "stream",
     "text": [
      "Using cache found in C:\\Users\\Admin/.cache\\torch\\hub\\pytorch_vision_v0.10.0\n"
     ]
    }
   ],
   "source": [
    "import torch\n",
    "from torch_geometric.data import Data, Dataset\n",
    "import os\n",
    "import os.path as osp\n",
    "from tqdm import tqdm\n",
    "\n",
    "import torchvision.transforms as transforms\n",
    "from torchvision.models import inception_v3\n",
    "from PIL import Image\n",
    "\n",
    "model = torch.hub.load('pytorch/vision:v0.10.0', 'inception_v3', pretrained=True)\n",
    "model.fc = torch.nn.Identity()  # Replace the classification layer with an identity layer\n",
    "model.eval() # Set the model to evaluation mode\n",
    "\n",
    "\n",
    "class outfitsDataset(Dataset):\n",
    "    def __init__(self, root, outfits,transform=None, pre_transform=None, pre_filter=None):\n",
    "        self.outfits = outfits\n",
    "        super().__init__(root, transform, pre_transform, pre_filter)\n",
    "\n",
    "    @property\n",
    "    def raw_file_names(self):\n",
    "        return os.listdir('..\\\\Outfit-Recommender-GNN\\\\outfitsData')\n",
    "\n",
    "    @property\n",
    "    def processed_file_names(self):\n",
    "        return [f'{file}' for file in os.listdir(self.processed_dir)]\n",
    "\n",
    "    def preprocess_image(self, img_path):\n",
    "        \n",
    "        transform = transforms.Compose([\n",
    "        transforms.Resize(299),\n",
    "        transforms.CenterCrop(299),\n",
    "        transforms.ToTensor(),\n",
    "        transforms.Normalize(mean=[0.485, 0.456, 0.406], std=[0.229, 0.224, 0.225]),\n",
    "        ])\n",
    "        img = Image.open(img_path)\n",
    "        if img.mode != 'RGB':\n",
    "            #print('false')\n",
    "            img = img.convert(\"RGB\")\n",
    "        img_tensor = transform(img).unsqueeze(0)  # Add batch dimension\n",
    "        return img_tensor\n",
    "    \n",
    "    def extract_features(self, img_path, model):\n",
    "        img_tensor = self.preprocess_image(img_path)\n",
    "        with torch.no_grad():  # Disable gradient calculation for inference\n",
    "            features = model(img_tensor)\n",
    "        return features.squeeze()  # Remove the batch dimension\n",
    "        \n",
    "    def process_outfit(self, set_id, indexes):\n",
    "        images = []\n",
    "        for dirname in os.listdir('..\\\\Outfit-Recommender-GNN\\\\images'):\n",
    "            if dirname == set_id:\n",
    "                set_path = os.path.join('..\\\\Outfit-Recommender-GNN\\\\images', dirname)\n",
    "                i = 0\n",
    "                for image in os.listdir(set_path):\n",
    "                    try:\n",
    "                        if i in indexes:\n",
    "                            img_path = os.path.join(set_path, image)\n",
    "                            image_features = self.extract_features(img_path, model)\n",
    "                            images.append(image_features)\n",
    "                            #print(image_features)\n",
    "                            #print('complete')\n",
    "                    except Exception as e:\n",
    "                        print(f\"Error loading '{set_path}'\\\\{image}: {e}\")\n",
    "                    i += 1\n",
    "                return images\n",
    "            \n",
    "        return \"could not find\"\n",
    "        \n",
    "    def process(self):\n",
    "        idx = 0\n",
    "        for outfit in tqdm(self.outfits):\n",
    "            a_outift = self.process_outfit(outfit['set_id'], outfit['items_index'])\n",
    "            edge_index = []\n",
    "            for i in range(len(outfit)):\n",
    "                for j in range(len(outfit)):\n",
    "                    if i == j:\n",
    "                        continue\n",
    "                    edge_index.append([i, j])\n",
    "            edge_index = torch.tensor(edge_index)\n",
    "            x = a_outift\n",
    "            data = Data(x=x, edge_index=edge_index.t().contiguous())\n",
    "            torch.save(data, osp.join(self.processed_dir, f'data_{idx}.pt'))\n",
    "            idx+=1\n",
    "\n",
    "    def len(self):\n",
    "        return len(self.processed_file_names)\n",
    "\n",
    "    def get(self, idx):\n",
    "        data = torch.load(osp.join(self.processed_dir, f'data_{idx}.pt'))\n",
    "        return data"
   ]
  },
  {
   "cell_type": "code",
   "execution_count": 5,
   "metadata": {},
   "outputs": [
    {
     "name": "stderr",
     "output_type": "stream",
     "text": [
      "100%|███████████████████████████████████████████████████████████████████████████████████████████████████████████████████████████████████████████████████████████████████████████████████████| 1000/1000 [11:37<00:00,  1.43it/s]"
     ]
    },
    {
     "name": "stdout",
     "output_type": "stream",
     "text": [
      "torch.Size([2048])\n"
     ]
    },
    {
     "name": "stderr",
     "output_type": "stream",
     "text": [
      "\n"
     ]
    }
   ],
   "source": [
    "outfits = outfits[:1000]\n",
    "outfits_graphs = outfitsDataset('..\\\\Outfit-Recommender-GNN\\\\outfitsData', outfits=outfits)\n",
    "outfits_graphs.process()\n",
    "print(outfits_graphs[1].x[0].size())"
   ]
  },
  {
   "cell_type": "code",
   "execution_count": null,
   "metadata": {},
   "outputs": [],
   "source": []
  }
 ],
 "metadata": {
  "kernelspec": {
   "display_name": "Python 3 (ipykernel)",
   "language": "python",
   "name": "python3"
  },
  "language_info": {
   "codemirror_mode": {
    "name": "ipython",
    "version": 3
   },
   "file_extension": ".py",
   "mimetype": "text/x-python",
   "name": "python",
   "nbconvert_exporter": "python",
   "pygments_lexer": "ipython3",
   "version": "3.10.11"
  }
 },
 "nbformat": 4,
 "nbformat_minor": 4
}
